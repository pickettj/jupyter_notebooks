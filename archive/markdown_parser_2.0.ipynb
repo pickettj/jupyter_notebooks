{
 "cells": [
  {
   "cell_type": "markdown",
   "metadata": {},
   "source": [
    "# Custom Markdown Parser\n",
    "\n",
    "Inputs markdown, outputs XML based on a custom schema using regex."
   ]
  },
  {
   "cell_type": "markdown",
   "metadata": {},
   "source": [
    "Next steps:\n",
    "- Code batch processing (i.e. open all files in one directory, output to another).\n",
    "- Automate transfer of process files to new directory to simplify workflow."
   ]
  },
  {
   "cell_type": "code",
   "execution_count": 196,
   "metadata": {},
   "outputs": [],
   "source": [
    "# Notes on Version 2 (From General Hanley):\n",
    "\n",
    "# Advocates transcending the \"line-by-line approach\":\n",
    "# If you give re.sub the flags=re.MULTILINE option, then ^ and $ will match the\n",
    "# beginning and end of lines, rather than the whole string. That way you\n",
    "# can do it for the whole file at once. This should in principle be faster too."
   ]
  },
  {
   "cell_type": "code",
   "execution_count": 7,
   "metadata": {},
   "outputs": [],
   "source": [
    "import re, os"
   ]
  },
  {
   "cell_type": "markdown",
   "metadata": {},
   "source": [
    "### File Paths"
   ]
  },
  {
   "cell_type": "code",
   "execution_count": 8,
   "metadata": {},
   "outputs": [
    {
     "data": {
      "text/plain": [
       "['.DS_Store',\n",
       " '.Ulysses-Group.plist',\n",
       " 'archive_docs_now_at_xml_stage_do_not_use',\n",
       " 'document_conversion_backlog',\n",
       " 'ser560.txt',\n",
       " 'ser706.txt']"
      ]
     },
     "execution_count": 8,
     "metadata": {},
     "output_type": "execute_result"
    }
   ],
   "source": [
    "input_path = r\"/Users/Enkidu/Box Sync/Notes/Primary Sources/transcription_markdown_drafting_stage1/\"\n",
    "\n",
    "os.listdir(input_path)"
   ]
  },
  {
   "cell_type": "code",
   "execution_count": 9,
   "metadata": {},
   "outputs": [
    {
     "data": {
      "text/plain": [
       "[]"
      ]
     },
     "execution_count": 9,
     "metadata": {},
     "output_type": "execute_result"
    }
   ],
   "source": [
    "output_path = r\"/Users/Enkidu/Box Sync/Notes/Primary Sources/xml_notes_stage2/parser_depository/\"\n",
    "os.listdir(output_path)"
   ]
  },
  {
   "cell_type": "code",
   "execution_count": 10,
   "metadata": {},
   "outputs": [
    {
     "name": "stdout",
     "output_type": "stream",
     "text": [
      "706\n",
      "<document serial = \"706\">\n"
     ]
    }
   ],
   "source": [
    "input_file = 'ser706.txt'\n",
    "ret = re.match(r'[^0-9]*([0-9]+)\\.txt', input_file)\n",
    "doc_serial, = ret.groups()\n",
    "print(doc_serial)\n",
    "\n",
    "doc_serial_xml = '<document serial = \"' + doc_serial + '\">'\n",
    "print (doc_serial_xml)"
   ]
  },
  {
   "cell_type": "code",
   "execution_count": 13,
   "metadata": {},
   "outputs": [],
   "source": [
    "os.chdir(input_path)\n",
    "with open(input_file) as fin:\n",
    "    text = fin.read()"
   ]
  },
  {
   "cell_type": "markdown",
   "metadata": {},
   "source": [
    "Previous code, when `<lb>` was wrapped instead of a milestone:\n",
    "\n",
    "```python\n",
    "\n",
    "conv = re.sub(r'^ *\\- (.*)$', r'<lb>\\1</lb>', conv, flags=re.MULTILINE)\n",
    "\n",
    "```"
   ]
  },
  {
   "cell_type": "code",
   "execution_count": 14,
   "metadata": {},
   "outputs": [],
   "source": [
    "# General Hanley on F-strings: I made a few other changes too, the major one is useing f-strings,\n",
    "# which is a great new feature. (You need to have python version >=3.6)\n",
    "\n",
    "\n",
    "conv = text\n",
    "conv = re.sub(r'^ *\\- ', r'\\t<lb/>', conv, flags=re.MULTILINE)\n",
    "conv = re.sub(r'\\----', r'</div>\\n<div>', conv, flags=re.MULTILINE)\n",
    "conv = re.sub(r'(\\*[^\\*\\n]+\\*)', r'<flag>\\1</flag>', conv)\n",
    "conv = re.sub(r'\\*', r'', conv)\n",
    "conv = re.sub(r'^> (.*)$', r'<!-- \\1 -->', conv, flags=re.MULTILINE)\n",
    "# print(conv)"
   ]
  },
  {
   "cell_type": "code",
   "execution_count": 15,
   "metadata": {},
   "outputs": [
    {
     "name": "stdout",
     "output_type": "stream",
     "text": [
      "<?xml-model href=\"../../../../../Documents/digital_humanities/xml_development/schemas/schema_coding_primary_texts_2.0.rnc\" type=\"application/relax-ng-compact-syntax\"?>\n",
      "<document serial = \"706\">\n",
      "\t\n",
      "\t\n",
      "\t\n",
      "\t<div> \n",
      "\t\t<lb/>جهان پناها \n",
      "\t\n",
      "\t</div>\n",
      "\t<div> \n",
      "\t\n",
      "\t\t<lb/>تصدق سر مبارک جناب عالیحضرتم و سیدم هزاران هزار بار شوم مبارک نماهً\n",
      "\t\t<lb/>همایون <flag>عنبر</flag> شمایم  باینغلام رضاجوی جانسپار محقر سراپا عیب و نقصان از وجه\n",
      "\t\t<lb/>تعفن ناک جمع می شده گی باشد و آب باران بخندقهای جمع شده بدبوی میشده گی\n",
      "\t\t<lb/>باشد بدرون قورغان و بقشلاغهای دور نزدیک ها را بطرف کنانیده پاکیزه میکنید\n",
      "\t\t<lb/>گفته مرحمت و مهربانی عالیملایم شده بوده است که اینغلام رضاجوی مبارکنامهً\n",
      "\t\t<lb/>عالی سیدم را بدو دست ادم گرفته بوسیده بچشمان خود مالیده کحل البصر و تاج\n",
      "\t\t<lb/>سر خود کرده فوراً باقسقالان و بفقرایان درون قورغان و بقشلاقهای \n",
      "\t\t<lb/>دور نزدیک آدم فرموده جمع کنانیده آورده سپارش مرحمت جناب عالی حضرتم را \n",
      "\t\t<lb/>گفته بودم که جمیع فقرا غلامشان از اینوجه خورسند و سرافراز بلا نهایه\n",
      "\t\t<lb/>گردیده دعای بلا نهایه نمودند که اینغلام رضاجوی جمیع اخلاط های  درون قورغان\n",
      "\t\t<lb/>و اطراف جوانب را خوب پاکیزه کنانیده بحق اشراف اقدس همایون عالیمولایم\n",
      "\t\t<lb/>دعای بلا نهایه گرفته دعا نمودم اینغلام رضاجوی خدمتکار هیچمدان از روی\n",
      "\t\t<lb/>خدمتکاری  و جانسپاری صورت حادثه را مسموع ذات عالی سیدم\n",
      "\t\t<lb/>و مولایم شود گفته عرض بنده گی نمودم غلامم رضایم بندهً فرمان واجب <flag>الاذعانم</flag>\n",
      "\t\t<lb/>غیر از ذات عالی مولایم دیگر مرَبی و <flag>متکامی</flag> ظاهری ندارم آلهی سلامت باشند\n",
      "\t\t<lb/>التقصیر التقصیر التقصیر     التقصیر التقصیر التقصیر    التقصیر التقصیر التقصیر\n",
      "\t\t<lb/>التقصیر التقصیر التقصیر\n",
      "\t\n",
      "</document>\n"
     ]
    }
   ],
   "source": [
    "body = '\\n'.join([f'\\t{s}' for s in conv.split('\\n')])\n",
    "final = f\"\"\"\n",
    "<?xml-model href=\"/Users/Enkidu/Documents/digital_humanities/xml_development/schemas/persian_documents_schema_basic.rnc\" type=\"application/relax-ng-compact-syntax\"?>\n",
    "<document>\n",
    "{body}\n",
    "</document>\n",
    "\"\"\".strip()\n",
    "\n",
    "final = re.sub(r'</div>', '', final, count=1)\n",
    "final = re.sub (r'<document>', doc_serial_xml, final)\n",
    "\n",
    "print(final)\n",
    "\n"
   ]
  },
  {
   "cell_type": "code",
   "execution_count": 16,
   "metadata": {},
   "outputs": [],
   "source": [
    "output_file = 'parser_output.xml'\n",
    "with open(output_file, 'w+') as fout:\n",
    "    fout.write(final)"
   ]
  },
  {
   "cell_type": "code",
   "execution_count": null,
   "metadata": {},
   "outputs": [],
   "source": []
  }
 ],
 "metadata": {
  "kernelspec": {
   "display_name": "Python 3",
   "language": "python",
   "name": "python3"
  },
  "language_info": {
   "codemirror_mode": {
    "name": "ipython",
    "version": 3
   },
   "file_extension": ".py",
   "mimetype": "text/x-python",
   "name": "python",
   "nbconvert_exporter": "python",
   "pygments_lexer": "ipython3",
   "version": "3.6.5"
  }
 },
 "nbformat": 4,
 "nbformat_minor": 2
}
